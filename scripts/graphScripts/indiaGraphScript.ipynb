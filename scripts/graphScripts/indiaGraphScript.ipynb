{
 "cells": [
  {
   "cell_type": "code",
   "execution_count": 1,
   "id": "protective-satin",
   "metadata": {},
   "outputs": [],
   "source": [
    "import json\n",
    "import requests\n",
    "import pandas as pd\n",
    "import matplotlib.pyplot as plt\n",
    "import seaborn as sns\n",
    "sns.set()\n",
    "\n",
    "from quickchart import QuickChart\n",
    "\n",
    "def generate(a:pd.DataFrame, name):\n",
    "    x = []\n",
    "    for i in a['country']:\n",
    "        if i == \"India\":\n",
    "            for index, rows in a.iterrows():\n",
    "                if rows[0] == name:\n",
    "                    for i in range(1,len(rows)):\n",
    "                        x.append(rows[i])\n",
    "    return x"
   ]
  },
  {
   "cell_type": "code",
   "execution_count": 2,
   "id": "featured-nigeria",
   "metadata": {},
   "outputs": [],
   "source": [
    "url1 = \"https://raw.githubusercontent.com/CSSEGISandData/COVID-19/master/csse_covid_19_data/csse_covid_19_time_series/time_series_covid19_deaths_global.csv\"\n",
    "death = (pd.read_csv(url1)).drop(['Province/State','Lat','Long'], axis = 1)\n",
    "death = death.rename({'Country/Region':'country'}, axis = 1)\n",
    "\n",
    "url2 = \"https://raw.githubusercontent.com/CSSEGISandData/COVID-19/master/csse_covid_19_data/csse_covid_19_time_series/time_series_covid19_confirmed_global.csv\"\n",
    "case = (pd.read_csv(url2)).drop(['Province/State','Lat','Long'], axis = 1)\n",
    "case = case.rename({'Country/Region':'country'}, axis = 1)\n",
    "\n",
    "url3 = \"https://raw.githubusercontent.com/CSSEGISandData/COVID-19/master/csse_covid_19_data/csse_covid_19_time_series/time_series_covid19_recovered_global.csv\"\n",
    "recovery = (pd.read_csv(url3)).drop(['Province/State','Lat','Long'], axis = 1)\n",
    "recovery = recovery.rename({'Country/Region':'country'}, axis = 1)\n",
    "\n",
    "deaths = generate(death, \"India\")[-62:-1]\n",
    "cases = generate(case, \"India\")[-62:-1]\n",
    "recoveries = generate(recovery, \"India\")[-62:-1]\n",
    "\n",
    "dates = pd.read_csv('rangeOfDates.csv').T.reset_index().rename(columns = {'index':'Date'})\n",
    "\n",
    "labelDate = []\n",
    "\n",
    "for i in range(len(dates)):\n",
    "    date = dates['Date'][i].split(\"/\")\n",
    "    date_new = date[1] + \"/\" + date[0] + \"/\" + date[2]\n",
    "    labelDate.append(date_new)\n",
    "    \n",
    "labelDate = labelDate[-62:-1]"
   ]
  },
  {
   "cell_type": "code",
   "execution_count": 3,
   "id": "regular-mission",
   "metadata": {},
   "outputs": [
    {
     "name": "stdout",
     "output_type": "stream",
     "text": [
      "https://quickchart.io/chart/render/zf-a38f3a56-4f70-4af7-9640-e2c749a28c53\n"
     ]
    }
   ],
   "source": [
    "quickchart_url = 'https://quickchart.io/chart/create'\n",
    "post_data = {'chart': {'type': 'line', 'data': {'labels': labelDate,\n",
    "             'datasets': [{'label': 'Cases', \n",
    "                           'data': cases,\n",
    "                           'lineTension': 0.1},\n",
    "                         {'label': 'Deaths', \n",
    "                           'data': deaths,\n",
    "                           'lineTension': 0.1},\n",
    "                         {'label': 'Recoveries', \n",
    "                           'data': recoveries,\n",
    "                           'lineTension': 0.1}\n",
    "                         ]},\n",
    "              'options': {\"title\": {\"display\": \"true\",\n",
    "                          \"text\": 'COVID 19 India Statistics'},\n",
    "                         'elements':{'point':{'radius':1}}}}}\n",
    "\n",
    "response = requests.post(\n",
    "    quickchart_url,\n",
    "    json = post_data,\n",
    ")\n",
    "\n",
    "if (response.status_code != 200):\n",
    "    print('Error:', response.text)\n",
    "else:\n",
    "    chart_response = json.loads(response.text)\n",
    "    print(chart_response['url'])"
   ]
  },
  {
   "cell_type": "code",
   "execution_count": null,
   "id": "musical-denial",
   "metadata": {},
   "outputs": [],
   "source": []
  }
 ],
 "metadata": {
  "kernelspec": {
   "display_name": "Python [conda env:root] *",
   "language": "python",
   "name": "conda-root-py"
  },
  "language_info": {
   "codemirror_mode": {
    "name": "ipython",
    "version": 3
   },
   "file_extension": ".py",
   "mimetype": "text/x-python",
   "name": "python",
   "nbconvert_exporter": "python",
   "pygments_lexer": "ipython3",
   "version": "3.8.3"
  }
 },
 "nbformat": 4,
 "nbformat_minor": 5
}
