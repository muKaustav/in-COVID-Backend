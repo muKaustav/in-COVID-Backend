{
 "cells": [
  {
   "cell_type": "code",
   "execution_count": 1,
   "id": "horizontal-element",
   "metadata": {},
   "outputs": [],
   "source": [
    "import pandas as pd\n",
    "import json\n",
    "import requests\n",
    "from quickchart import QuickChart\n",
    "import gspread\n",
    "import df2gspread as d2g\n",
    "import pygsheets\n",
    "\n",
    "gc = pygsheets.authorize(service_file='yourCreds.json')\n",
    "sh = gc.open('yourSheet')\n",
    "state = sh[0]"
   ]
  },
  {
   "cell_type": "code",
   "execution_count": 2,
   "id": "spoken-nancy",
   "metadata": {},
   "outputs": [],
   "source": [
    "url = \"https://api.covid19india.org/csv/latest/state_wise_daily.csv\"\n",
    "df = pd.read_csv(url).drop(['Date_YMD'],axis = 1)\n",
    "df2 = df[['Date','Status','WB','TN','TG','AP','RJ','AS','BR','GA','GJ','HR','HP','JK','KA',\n",
    "          'KL','MP','MH','OR','UP']]"
   ]
  },
  {
   "cell_type": "code",
   "execution_count": 3,
   "id": "assured-description",
   "metadata": {},
   "outputs": [],
   "source": [
    "stateDf = pd.DataFrame(columns = [\"State Graph\"])"
   ]
  },
  {
   "cell_type": "code",
   "execution_count": 4,
   "id": "polyphonic-chocolate",
   "metadata": {},
   "outputs": [],
   "source": [
    "stateList = ['WB','TN','TG','AP','RJ','AS','BR','GA','GJ','HR','HP','JK','KA',\n",
    "             'KL','MP','MH','OR','UP']\n",
    "\n",
    "for i in range(len(stateList)):\n",
    "    \n",
    "    stateName = stateList[i]\n",
    "    \n",
    "    active = []\n",
    "    deaths = []\n",
    "    recoveries = []\n",
    "\n",
    "    active = df2[stateName].iloc[-30::3]\n",
    "    recoveries = df2[stateName].iloc[-29::3]\n",
    "    deaths = df2[stateName].iloc[-28::3]\n",
    "\n",
    "    active = list(map(int,active))\n",
    "    recoveries = list(map(int,recoveries))\n",
    "    deaths = list(map(int,deaths))\n",
    "\n",
    "    dateDict = {\n",
    "        'Jan':1,\n",
    "        'Feb':2,\n",
    "        'Mar':3,\n",
    "        'Apr':4,\n",
    "        'May':5,\n",
    "        'Jun':6,\n",
    "        'Jul':7,\n",
    "        'Aug':8,\n",
    "        'Sep':9,\n",
    "        'Oct':10,\n",
    "        'Nov':11,\n",
    "        'Dec':12\n",
    "    }\n",
    "\n",
    "    labelDate = []\n",
    "\n",
    "    for i in range((len(df2)-30),len(df2),3):\n",
    "        date = df2['Date'][i].split(\"-\")\n",
    "        date[1] = str(dateDict[str(date[1])])\n",
    "        date_new = date[0] + \"/\" + date[1] + \"/\" + date[2]\n",
    "        labelDate.append(date_new)\n",
    "\n",
    "    quickchart_url = 'https://quickchart.io/chart/create'\n",
    "    post_data = {'chart': {'type': 'line', 'data': {'labels': labelDate,\n",
    "                 'datasets': [{'label': 'Cases', \n",
    "                               'data': active},\n",
    "                             {'label': 'Deaths', \n",
    "                               'data': deaths},\n",
    "                             {'label': 'Recoveries', \n",
    "                               'data': recoveries}\n",
    "                             ]},\n",
    "                          'options': {\"title\": {\"display\": \"true\",\n",
    "                                      \"text\": 'COVID 19 ' + stateName + ' Active Cases Statistic'}}}}\n",
    "\n",
    "    response = requests.post(\n",
    "        quickchart_url,\n",
    "        json = post_data,\n",
    "    )\n",
    "\n",
    "    if (response.status_code != 200):\n",
    "        print('Error:', response.text)\n",
    "    else:\n",
    "        chart_response = json.loads(response.text)\n",
    "        res = chart_response['url']\n",
    "    \n",
    "    stateDf = stateDf.append({\"State Graph\":res},ignore_index=True)\n"
   ]
  },
  {
   "cell_type": "code",
   "execution_count": 6,
   "id": "related-valve",
   "metadata": {},
   "outputs": [],
   "source": [
    "state.set_dataframe(stateDf,(0,3))"
   ]
  },
  {
   "cell_type": "code",
   "execution_count": null,
   "id": "instant-essence",
   "metadata": {},
   "outputs": [],
   "source": []
  }
 ],
 "metadata": {
  "kernelspec": {
   "display_name": "Python [conda env:root] *",
   "language": "python",
   "name": "conda-root-py"
  },
  "language_info": {
   "codemirror_mode": {
    "name": "ipython",
    "version": 3
   },
   "file_extension": ".py",
   "mimetype": "text/x-python",
   "name": "python",
   "nbconvert_exporter": "python",
   "pygments_lexer": "ipython3",
   "version": "3.8.3"
  }
 },
 "nbformat": 4,
 "nbformat_minor": 5
}
